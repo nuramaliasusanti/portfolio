{
  "nbformat": 4,
  "nbformat_minor": 0,
  "metadata": {
    "colab": {
      "provenance": [],
      "collapsed_sections": [
        "ib_LZt6qtSLt",
        "fYJl5VJztshq",
        "lR2fOv5YYbPQ"
      ],
      "authorship_tag": "ABX9TyOAGJXqOMXlLWKtae7L9rGe",
      "include_colab_link": true
    },
    "kernelspec": {
      "display_name": "Python 3",
      "name": "python3"
    },
    "language_info": {
      "name": "python"
    }
  },
  "cells": [
    {
      "cell_type": "markdown",
      "metadata": {
        "id": "view-in-github",
        "colab_type": "text"
      },
      "source": [
        "<a href=\"https://colab.research.google.com/github/nuramaliasusanti/nuramaliasusanti/blob/main/Data_Analyst_Project_Business_Decision_Research.ipynb\" target=\"_parent\"><img src=\"https://colab.research.google.com/assets/colab-badge.svg\" alt=\"Open In Colab\"/></a>"
      ]
    },
    {
      "cell_type": "markdown",
      "metadata": {
        "id": "5UXNeg0CYVF4"
      },
      "source": [
        "# **BUSINESS DECISION RESEARCH**"
      ]
    },
    {
      "cell_type": "markdown",
      "metadata": {
        "id": "Y7lQdkjEuJqa"
      },
      "source": [
        "Melakukan *churn analysis* (analisis terhadap menurunnya pelanggan yang membeli kembali) terhadap produk di salah satu cabang perusahaan sehingga bisa memberikan rekomendasi dan strategi untuk menurunkan *churn* dari pelanggan. \n",
        "Perusahaan yang akan dianalisis adalah perusahaan yang menjual berbagai kebutuhan olahraga dan sudah mulai beroperasi sejak tahun 2013, sehingga sudah memiliki pelanggan tetap sejak lama, dan tetap berusaha untuk mendapatkan pelanggan baru sampai saat ini. \n",
        "Adapun *customer* termasuk sudah bukan disebut pelanggan lagi (*churn*) ketika sudah tidak bertransaksi lagi sampai dengan 6 bulan terakhir dari update data terakhir yang tersedia.  "
      ]
    },
    {
      "cell_type": "markdown",
      "metadata": {
        "id": "ib_LZt6qtSLt"
      },
      "source": [
        "# ***DATA PREPARATION : Melakukan ETL (Extract, Transform, Load) Data***"
      ]
    },
    {
      "cell_type": "markdown",
      "metadata": {
        "id": "SUa0246YxIUb"
      },
      "source": [
        "**IMPORTING DATA**"
      ]
    },
    {
      "cell_type": "code",
      "metadata": {
        "id": "pfqkljPfxkmh"
      },
      "source": [
        "import pandas as pd     # Import library       "
      ],
      "execution_count": null,
      "outputs": []
    },
    {
      "cell_type": "code",
      "metadata": {
        "id": "dAFviALPx3xW"
      },
      "source": [
        "data_retail = pd.read_csv('https://storage.googleapis.com/dqlab-dataset/data_retail.csv', sep = ';')      # Import data ke python environment dan mengubah formatnya menjadi kolom dengan fungsi sep"
      ],
      "execution_count": null,
      "outputs": []
    },
    {
      "cell_type": "code",
      "metadata": {
        "colab": {
          "base_uri": "https://localhost:8080/"
        },
        "id": "qZG1FImyydNC",
        "outputId": "96ca2fa0-dc02-46be-e0aa-cc8d836230bf"
      },
      "source": [
        "# Melakukan inspeksi pada dataset\n",
        "data_retail.head()      # Mengecek gambaran isi data dengan fungsi .head()"
      ],
      "execution_count": null,
      "outputs": [
        {
          "output_type": "execute_result",
          "data": {
            "text/html": [
              "<div>\n",
              "<style scoped>\n",
              "    .dataframe tbody tr th:only-of-type {\n",
              "        vertical-align: middle;\n",
              "    }\n",
              "\n",
              "    .dataframe tbody tr th {\n",
              "        vertical-align: top;\n",
              "    }\n",
              "\n",
              "    .dataframe thead th {\n",
              "        text-align: right;\n",
              "    }\n",
              "</style>\n",
              "<table border=\"1\" class=\"dataframe\">\n",
              "  <thead>\n",
              "    <tr style=\"text-align: right;\">\n",
              "      <th></th>\n",
              "      <th>no</th>\n",
              "      <th>Row_Num</th>\n",
              "      <th>Customer_ID</th>\n",
              "      <th>Product</th>\n",
              "      <th>First_Transaction</th>\n",
              "      <th>Last_Transaction</th>\n",
              "      <th>Average_Transaction_Amount</th>\n",
              "      <th>Count_Transaction</th>\n",
              "    </tr>\n",
              "  </thead>\n",
              "  <tbody>\n",
              "    <tr>\n",
              "      <th>0</th>\n",
              "      <td>1</td>\n",
              "      <td>1</td>\n",
              "      <td>29531</td>\n",
              "      <td>Jaket</td>\n",
              "      <td>1466304274396</td>\n",
              "      <td>1538718482608</td>\n",
              "      <td>1467681</td>\n",
              "      <td>22</td>\n",
              "    </tr>\n",
              "    <tr>\n",
              "      <th>1</th>\n",
              "      <td>2</td>\n",
              "      <td>2</td>\n",
              "      <td>29531</td>\n",
              "      <td>Sepatu</td>\n",
              "      <td>1406077331494</td>\n",
              "      <td>1545735761270</td>\n",
              "      <td>1269337</td>\n",
              "      <td>41</td>\n",
              "    </tr>\n",
              "    <tr>\n",
              "      <th>2</th>\n",
              "      <td>3</td>\n",
              "      <td>3</td>\n",
              "      <td>141526</td>\n",
              "      <td>Tas</td>\n",
              "      <td>1493349147000</td>\n",
              "      <td>1548322802000</td>\n",
              "      <td>310915</td>\n",
              "      <td>30</td>\n",
              "    </tr>\n",
              "    <tr>\n",
              "      <th>3</th>\n",
              "      <td>4</td>\n",
              "      <td>4</td>\n",
              "      <td>141526</td>\n",
              "      <td>Jaket</td>\n",
              "      <td>1493362372547</td>\n",
              "      <td>1547643603911</td>\n",
              "      <td>722632</td>\n",
              "      <td>27</td>\n",
              "    </tr>\n",
              "    <tr>\n",
              "      <th>4</th>\n",
              "      <td>5</td>\n",
              "      <td>5</td>\n",
              "      <td>37545</td>\n",
              "      <td>Sepatu</td>\n",
              "      <td>1429178498531</td>\n",
              "      <td>1542891221530</td>\n",
              "      <td>1775036</td>\n",
              "      <td>25</td>\n",
              "    </tr>\n",
              "  </tbody>\n",
              "</table>\n",
              "</div>"
            ],
            "text/plain": [
              "   no  Row_Num  ...  Average_Transaction_Amount Count_Transaction\n",
              "0   1        1  ...                     1467681                22\n",
              "1   2        2  ...                     1269337                41\n",
              "2   3        3  ...                      310915                30\n",
              "3   4        4  ...                      722632                27\n",
              "4   5        5  ...                     1775036                25\n",
              "\n",
              "[5 rows x 8 columns]"
            ]
          },
          "metadata": {
            "tags": []
          },
          "execution_count": 175
        }
      ]
    },
    {
      "cell_type": "code",
      "metadata": {
        "colab": {
          "base_uri": "https://localhost:8080/"
        },
        "id": "xlCH8F9M0G_w",
        "outputId": "22fed939-3005-4268-f3a9-c82d164d5916"
      },
      "source": [
        "data_retail.info()      # Melihat informasi jumlah kolom, NaN, dan tipe setiap feature pada data dengan fungsi .info()"
      ],
      "execution_count": null,
      "outputs": [
        {
          "output_type": "stream",
          "text": [
            "<class 'pandas.core.frame.DataFrame'>\n",
            "RangeIndex: 100000 entries, 0 to 99999\n",
            "Data columns (total 8 columns):\n",
            " #   Column                      Non-Null Count   Dtype \n",
            "---  ------                      --------------   ----- \n",
            " 0   no                          100000 non-null  int64 \n",
            " 1   Row_Num                     100000 non-null  int64 \n",
            " 2   Customer_ID                 100000 non-null  int64 \n",
            " 3   Product                     100000 non-null  object\n",
            " 4   First_Transaction           100000 non-null  int64 \n",
            " 5   Last_Transaction            100000 non-null  int64 \n",
            " 6   Average_Transaction_Amount  100000 non-null  int64 \n",
            " 7   Count_Transaction           100000 non-null  int64 \n",
            "dtypes: int64(7), object(1)\n",
            "memory usage: 6.1+ MB\n"
          ],
          "name": "stdout"
        }
      ]
    },
    {
      "cell_type": "markdown",
      "metadata": {
        "id": "OaO3yzOD0RtM"
      },
      "source": [
        "**Note** : Terlihat bahwa dua kolom yang menunjukkan terjadinya transaksi (kolom *First_Transaction* dan *Last_Transaction*) tidak bertipe datetime"
      ]
    },
    {
      "cell_type": "markdown",
      "metadata": {
        "id": "ZWiBLrefxjow"
      },
      "source": [
        "**CLEANSING DATA**"
      ]
    },
    {
      "cell_type": "code",
      "metadata": {
        "id": "hkcBoNfc1BBI"
      },
      "source": [
        "# Mengubah tipe data\n",
        "\n",
        "# Kolom First_Transaction\n",
        "data_retail['First_Transaction'] = pd.to_datetime(data_retail['First_Transaction']/1000, unit='s', origin='1970-01-01')     # Mengubah tipe data integer menjadi datetime dengan fungsi pd.to_datetime()\n",
        "                                                                                                                                                                                          # Fitur unit untuk menentukan sejauh mana data berubah jauh dari aslinya\n",
        "                                                                                                                                                                                          # Fitur origin untuk menentukan format isi data \n",
        "\n",
        "# Kolom Last_Transaction\n",
        "data_retail['Last_Transaction'] = pd.to_datetime(data_retail['Last_Transaction']/1000, unit='s', origin='1970-01-01')"
      ],
      "execution_count": null,
      "outputs": []
    },
    {
      "cell_type": "code",
      "metadata": {
        "id": "MrESy5VRPQSa"
      },
      "source": [
        "# Menghapus kolom yang tidak diperlukan\n",
        "del data_retail['no']     # Menghapus kolom  dengan fungsi del\n",
        "del data_retail['Row_Num']"
      ],
      "execution_count": null,
      "outputs": []
    },
    {
      "cell_type": "code",
      "metadata": {
        "colab": {
          "base_uri": "https://localhost:8080/"
        },
        "id": "WcT7owZFP7YQ",
        "outputId": "0b349688-f57f-458a-b831-f3b6ba0e1f55"
      },
      "source": [
        "# Cek dataframe baru setelah dilakukan modifikasi\n",
        "data_retail.head()"
      ],
      "execution_count": null,
      "outputs": [
        {
          "output_type": "execute_result",
          "data": {
            "text/html": [
              "<div>\n",
              "<style scoped>\n",
              "    .dataframe tbody tr th:only-of-type {\n",
              "        vertical-align: middle;\n",
              "    }\n",
              "\n",
              "    .dataframe tbody tr th {\n",
              "        vertical-align: top;\n",
              "    }\n",
              "\n",
              "    .dataframe thead th {\n",
              "        text-align: right;\n",
              "    }\n",
              "</style>\n",
              "<table border=\"1\" class=\"dataframe\">\n",
              "  <thead>\n",
              "    <tr style=\"text-align: right;\">\n",
              "      <th></th>\n",
              "      <th>Customer_ID</th>\n",
              "      <th>Product</th>\n",
              "      <th>First_Transaction</th>\n",
              "      <th>Last_Transaction</th>\n",
              "      <th>Average_Transaction_Amount</th>\n",
              "      <th>Count_Transaction</th>\n",
              "    </tr>\n",
              "  </thead>\n",
              "  <tbody>\n",
              "    <tr>\n",
              "      <th>0</th>\n",
              "      <td>29531</td>\n",
              "      <td>Jaket</td>\n",
              "      <td>2016-06-19 02:44:34.395999908</td>\n",
              "      <td>2018-10-05 05:48:02.608000040</td>\n",
              "      <td>1467681</td>\n",
              "      <td>22</td>\n",
              "    </tr>\n",
              "    <tr>\n",
              "      <th>1</th>\n",
              "      <td>29531</td>\n",
              "      <td>Sepatu</td>\n",
              "      <td>2014-07-23 01:02:11.493999958</td>\n",
              "      <td>2018-12-25 11:02:41.269999981</td>\n",
              "      <td>1269337</td>\n",
              "      <td>41</td>\n",
              "    </tr>\n",
              "    <tr>\n",
              "      <th>2</th>\n",
              "      <td>141526</td>\n",
              "      <td>Tas</td>\n",
              "      <td>2017-04-28 03:12:27.000000000</td>\n",
              "      <td>2019-01-24 09:40:02.000000000</td>\n",
              "      <td>310915</td>\n",
              "      <td>30</td>\n",
              "    </tr>\n",
              "    <tr>\n",
              "      <th>3</th>\n",
              "      <td>141526</td>\n",
              "      <td>Jaket</td>\n",
              "      <td>2017-04-28 06:52:52.546999931</td>\n",
              "      <td>2019-01-16 13:00:03.911000013</td>\n",
              "      <td>722632</td>\n",
              "      <td>27</td>\n",
              "    </tr>\n",
              "    <tr>\n",
              "      <th>4</th>\n",
              "      <td>37545</td>\n",
              "      <td>Sepatu</td>\n",
              "      <td>2015-04-16 10:01:38.530999899</td>\n",
              "      <td>2018-11-22 12:53:41.529999970</td>\n",
              "      <td>1775036</td>\n",
              "      <td>25</td>\n",
              "    </tr>\n",
              "  </tbody>\n",
              "</table>\n",
              "</div>"
            ],
            "text/plain": [
              "   Customer_ID Product  ... Average_Transaction_Amount Count_Transaction\n",
              "0        29531   Jaket  ...                    1467681                22\n",
              "1        29531  Sepatu  ...                    1269337                41\n",
              "2       141526     Tas  ...                     310915                30\n",
              "3       141526   Jaket  ...                     722632                27\n",
              "4        37545  Sepatu  ...                    1775036                25\n",
              "\n",
              "[5 rows x 6 columns]"
            ]
          },
          "metadata": {
            "tags": []
          },
          "execution_count": 179
        }
      ]
    },
    {
      "cell_type": "code",
      "metadata": {
        "colab": {
          "base_uri": "https://localhost:8080/"
        },
        "id": "HS1BwFdnQEHk",
        "outputId": "6a66080a-a260-48f2-b33b-17f013b28d02"
      },
      "source": [
        "data_retail.info()      # Informasi dataset untuk mengetahui perubahan pada dataset"
      ],
      "execution_count": null,
      "outputs": [
        {
          "output_type": "stream",
          "text": [
            "<class 'pandas.core.frame.DataFrame'>\n",
            "RangeIndex: 100000 entries, 0 to 99999\n",
            "Data columns (total 6 columns):\n",
            " #   Column                      Non-Null Count   Dtype         \n",
            "---  ------                      --------------   -----         \n",
            " 0   Customer_ID                 100000 non-null  int64         \n",
            " 1   Product                     100000 non-null  object        \n",
            " 2   First_Transaction           100000 non-null  datetime64[ns]\n",
            " 3   Last_Transaction            100000 non-null  datetime64[ns]\n",
            " 4   Average_Transaction_Amount  100000 non-null  int64         \n",
            " 5   Count_Transaction           100000 non-null  int64         \n",
            "dtypes: datetime64[ns](2), int64(3), object(1)\n",
            "memory usage: 4.6+ MB\n"
          ],
          "name": "stdout"
        }
      ]
    },
    {
      "cell_type": "markdown",
      "metadata": {
        "id": "zPG-CixOFyoa"
      },
      "source": [
        "**Note** : Data pada kolom yang menunjukkan tanggal transaksi telah berubah format dan tipe datanya menjadi datetime serta hanya ditampilkan kolom yang berguna untuk proses analisis"
      ]
    },
    {
      "cell_type": "markdown",
      "metadata": {
        "id": "svMtFy4LEB1l"
      },
      "source": [
        "***CHURN CUSTOMERS***"
      ]
    },
    {
      "cell_type": "code",
      "metadata": {
        "colab": {
          "base_uri": "https://localhost:8080/"
        },
        "id": "MQHM7SIyD-Mo",
        "outputId": "8d2014aa-536a-47f0-efc9-21e5fde313be"
      },
      "source": [
        "# Menemukan transaksi paling terakhir\n",
        "print(max(data_retail['Last_Transaction']))     # Pengecekan transaksi terakhir dengan fungsi max()"
      ],
      "execution_count": null,
      "outputs": [
        {
          "output_type": "stream",
          "text": [
            "2019-02-01 23:57:57.286000013\n"
          ],
          "name": "stdout"
        }
      ]
    },
    {
      "cell_type": "markdown",
      "metadata": {
        "id": "KvRMd1FIHSLK"
      },
      "source": [
        "**Note** : Data menunjukkan transaksi terakhir tercatat pada 01 Februari 2019. Sehingga customers dikategorikan sebagai *Churn Customers* jika sudah tidak melakukan transaksi selama 6 bulan terakhir yang berarti terhitung sejak 01 Agustus 2018"
      ]
    },
    {
      "cell_type": "code",
      "metadata": {
        "id": "S5cwncBlGMAa"
      },
      "source": [
        "# Mengklasifikasikan status customers (Churn or Not) dengan boolean\n",
        "data_retail.loc[data_retail['Last_Transaction'] <= '2018-08-01', 'Churn_Cust'] = True     # Churn_Cust bernilai True jika Last_Transaction tercatat sebelum 01 Agustus 2018\n",
        "data_retail.loc[data_retail['Last_Transaction'] > '2018-08-01', 'Churn_Cust'] = False      # Churn_Cust bernilai False jika Last_Transaction tercatat setelah 01 Agustus 2018"
      ],
      "execution_count": null,
      "outputs": []
    },
    {
      "cell_type": "code",
      "metadata": {
        "colab": {
          "base_uri": "https://localhost:8080/"
        },
        "id": "UxzZ8tLtJUlt",
        "outputId": "26203869-a207-4a70-c8f6-bc0546d7ace5"
      },
      "source": [
        "# Cek dataframe baru setelah dilakukan modifikasi\n",
        "data_retail.head()"
      ],
      "execution_count": null,
      "outputs": [
        {
          "output_type": "execute_result",
          "data": {
            "text/html": [
              "<div>\n",
              "<style scoped>\n",
              "    .dataframe tbody tr th:only-of-type {\n",
              "        vertical-align: middle;\n",
              "    }\n",
              "\n",
              "    .dataframe tbody tr th {\n",
              "        vertical-align: top;\n",
              "    }\n",
              "\n",
              "    .dataframe thead th {\n",
              "        text-align: right;\n",
              "    }\n",
              "</style>\n",
              "<table border=\"1\" class=\"dataframe\">\n",
              "  <thead>\n",
              "    <tr style=\"text-align: right;\">\n",
              "      <th></th>\n",
              "      <th>Customer_ID</th>\n",
              "      <th>Product</th>\n",
              "      <th>First_Transaction</th>\n",
              "      <th>Last_Transaction</th>\n",
              "      <th>Average_Transaction_Amount</th>\n",
              "      <th>Count_Transaction</th>\n",
              "      <th>Churn_Cust</th>\n",
              "    </tr>\n",
              "  </thead>\n",
              "  <tbody>\n",
              "    <tr>\n",
              "      <th>0</th>\n",
              "      <td>29531</td>\n",
              "      <td>Jaket</td>\n",
              "      <td>2016-06-19 02:44:34.395999908</td>\n",
              "      <td>2018-10-05 05:48:02.608000040</td>\n",
              "      <td>1467681</td>\n",
              "      <td>22</td>\n",
              "      <td>False</td>\n",
              "    </tr>\n",
              "    <tr>\n",
              "      <th>1</th>\n",
              "      <td>29531</td>\n",
              "      <td>Sepatu</td>\n",
              "      <td>2014-07-23 01:02:11.493999958</td>\n",
              "      <td>2018-12-25 11:02:41.269999981</td>\n",
              "      <td>1269337</td>\n",
              "      <td>41</td>\n",
              "      <td>False</td>\n",
              "    </tr>\n",
              "    <tr>\n",
              "      <th>2</th>\n",
              "      <td>141526</td>\n",
              "      <td>Tas</td>\n",
              "      <td>2017-04-28 03:12:27.000000000</td>\n",
              "      <td>2019-01-24 09:40:02.000000000</td>\n",
              "      <td>310915</td>\n",
              "      <td>30</td>\n",
              "      <td>False</td>\n",
              "    </tr>\n",
              "    <tr>\n",
              "      <th>3</th>\n",
              "      <td>141526</td>\n",
              "      <td>Jaket</td>\n",
              "      <td>2017-04-28 06:52:52.546999931</td>\n",
              "      <td>2019-01-16 13:00:03.911000013</td>\n",
              "      <td>722632</td>\n",
              "      <td>27</td>\n",
              "      <td>False</td>\n",
              "    </tr>\n",
              "    <tr>\n",
              "      <th>4</th>\n",
              "      <td>37545</td>\n",
              "      <td>Sepatu</td>\n",
              "      <td>2015-04-16 10:01:38.530999899</td>\n",
              "      <td>2018-11-22 12:53:41.529999970</td>\n",
              "      <td>1775036</td>\n",
              "      <td>25</td>\n",
              "      <td>False</td>\n",
              "    </tr>\n",
              "  </tbody>\n",
              "</table>\n",
              "</div>"
            ],
            "text/plain": [
              "   Customer_ID Product  ... Count_Transaction Churn_Cust\n",
              "0        29531   Jaket  ...                22      False\n",
              "1        29531  Sepatu  ...                41      False\n",
              "2       141526     Tas  ...                30      False\n",
              "3       141526   Jaket  ...                27      False\n",
              "4        37545  Sepatu  ...                25      False\n",
              "\n",
              "[5 rows x 7 columns]"
            ]
          },
          "metadata": {
            "tags": []
          },
          "execution_count": 183
        }
      ]
    },
    {
      "cell_type": "code",
      "metadata": {
        "colab": {
          "base_uri": "https://localhost:8080/"
        },
        "id": "F2pEZwq4Jhol",
        "outputId": "8c0ea3ca-5f7e-4bfe-d782-5026f8dc55cf"
      },
      "source": [
        "data_retail.info()      # Informasi dataset untuk mengetahui perubahan pada kolom"
      ],
      "execution_count": null,
      "outputs": [
        {
          "output_type": "stream",
          "text": [
            "<class 'pandas.core.frame.DataFrame'>\n",
            "RangeIndex: 100000 entries, 0 to 99999\n",
            "Data columns (total 7 columns):\n",
            " #   Column                      Non-Null Count   Dtype         \n",
            "---  ------                      --------------   -----         \n",
            " 0   Customer_ID                 100000 non-null  int64         \n",
            " 1   Product                     100000 non-null  object        \n",
            " 2   First_Transaction           100000 non-null  datetime64[ns]\n",
            " 3   Last_Transaction            100000 non-null  datetime64[ns]\n",
            " 4   Average_Transaction_Amount  100000 non-null  int64         \n",
            " 5   Count_Transaction           100000 non-null  int64         \n",
            " 6   Churn_Cust                  100000 non-null  object        \n",
            "dtypes: datetime64[ns](2), int64(3), object(2)\n",
            "memory usage: 5.3+ MB\n"
          ],
          "name": "stdout"
        }
      ]
    },
    {
      "cell_type": "markdown",
      "metadata": {
        "id": "wKaAIbzUwv8s"
      },
      "source": [
        "**LABEL ENCODING DATA**"
      ]
    },
    {
      "cell_type": "markdown",
      "metadata": {
        "id": "BF9RdJSTw0GL"
      },
      "source": [
        "Mengubah kolom Churn_Cust yang semula bertipe object menjadi tipe numerik agar memudahkan saat modellling data"
      ]
    },
    {
      "cell_type": "code",
      "metadata": {
        "id": "_6JqbeHCwzHv"
      },
      "source": [
        "import numpy as np\n",
        "from sklearn.preprocessing import LabelEncoder"
      ],
      "execution_count": null,
      "outputs": []
    },
    {
      "cell_type": "code",
      "metadata": {
        "colab": {
          "base_uri": "https://localhost:8080/"
        },
        "id": "48v4J6R0xNkl",
        "outputId": "cc9f7a1e-f7e0-41d8-c2a4-9dc7b4662ed5"
      },
      "source": [
        "le = LabelEncoder()\n",
        "data_retail['Churn_Cust'] = le.fit_transform(data_retail['Churn_Cust'])\n",
        "print(le.classes_)\n",
        "print(np.sort(data_retail['Churn_Cust'].unique()))"
      ],
      "execution_count": null,
      "outputs": [
        {
          "output_type": "stream",
          "text": [
            "[False True]\n",
            "[0 1]\n"
          ],
          "name": "stdout"
        }
      ]
    },
    {
      "cell_type": "code",
      "metadata": {
        "colab": {
          "base_uri": "https://localhost:8080/"
        },
        "id": "sRyHzYeaYzs8",
        "outputId": "ce626fa8-d4d0-402e-fd1d-eb4ef7f7c83f"
      },
      "source": [
        "# Cek dataframe setelah dilakukan modifikasi\n",
        "data_retail.head()"
      ],
      "execution_count": null,
      "outputs": [
        {
          "output_type": "execute_result",
          "data": {
            "text/html": [
              "<div>\n",
              "<style scoped>\n",
              "    .dataframe tbody tr th:only-of-type {\n",
              "        vertical-align: middle;\n",
              "    }\n",
              "\n",
              "    .dataframe tbody tr th {\n",
              "        vertical-align: top;\n",
              "    }\n",
              "\n",
              "    .dataframe thead th {\n",
              "        text-align: right;\n",
              "    }\n",
              "</style>\n",
              "<table border=\"1\" class=\"dataframe\">\n",
              "  <thead>\n",
              "    <tr style=\"text-align: right;\">\n",
              "      <th></th>\n",
              "      <th>Customer_ID</th>\n",
              "      <th>Product</th>\n",
              "      <th>First_Transaction</th>\n",
              "      <th>Last_Transaction</th>\n",
              "      <th>Average_Transaction_Amount</th>\n",
              "      <th>Count_Transaction</th>\n",
              "      <th>Churn_Cust</th>\n",
              "    </tr>\n",
              "  </thead>\n",
              "  <tbody>\n",
              "    <tr>\n",
              "      <th>0</th>\n",
              "      <td>29531</td>\n",
              "      <td>Jaket</td>\n",
              "      <td>2016-06-19 02:44:34.395999908</td>\n",
              "      <td>2018-10-05 05:48:02.608000040</td>\n",
              "      <td>1467681</td>\n",
              "      <td>22</td>\n",
              "      <td>0</td>\n",
              "    </tr>\n",
              "    <tr>\n",
              "      <th>1</th>\n",
              "      <td>29531</td>\n",
              "      <td>Sepatu</td>\n",
              "      <td>2014-07-23 01:02:11.493999958</td>\n",
              "      <td>2018-12-25 11:02:41.269999981</td>\n",
              "      <td>1269337</td>\n",
              "      <td>41</td>\n",
              "      <td>0</td>\n",
              "    </tr>\n",
              "    <tr>\n",
              "      <th>2</th>\n",
              "      <td>141526</td>\n",
              "      <td>Tas</td>\n",
              "      <td>2017-04-28 03:12:27.000000000</td>\n",
              "      <td>2019-01-24 09:40:02.000000000</td>\n",
              "      <td>310915</td>\n",
              "      <td>30</td>\n",
              "      <td>0</td>\n",
              "    </tr>\n",
              "    <tr>\n",
              "      <th>3</th>\n",
              "      <td>141526</td>\n",
              "      <td>Jaket</td>\n",
              "      <td>2017-04-28 06:52:52.546999931</td>\n",
              "      <td>2019-01-16 13:00:03.911000013</td>\n",
              "      <td>722632</td>\n",
              "      <td>27</td>\n",
              "      <td>0</td>\n",
              "    </tr>\n",
              "    <tr>\n",
              "      <th>4</th>\n",
              "      <td>37545</td>\n",
              "      <td>Sepatu</td>\n",
              "      <td>2015-04-16 10:01:38.530999899</td>\n",
              "      <td>2018-11-22 12:53:41.529999970</td>\n",
              "      <td>1775036</td>\n",
              "      <td>25</td>\n",
              "      <td>0</td>\n",
              "    </tr>\n",
              "  </tbody>\n",
              "</table>\n",
              "</div>"
            ],
            "text/plain": [
              "   Customer_ID Product  ... Count_Transaction Churn_Cust\n",
              "0        29531   Jaket  ...                22          0\n",
              "1        29531  Sepatu  ...                41          0\n",
              "2       141526     Tas  ...                30          0\n",
              "3       141526   Jaket  ...                27          0\n",
              "4        37545  Sepatu  ...                25          0\n",
              "\n",
              "[5 rows x 7 columns]"
            ]
          },
          "metadata": {
            "tags": []
          },
          "execution_count": 187
        }
      ]
    },
    {
      "cell_type": "markdown",
      "metadata": {
        "id": "LooHVYNoPC6q"
      },
      "source": [
        "**Note** : Dataset telah berhasil dimodifikasi yang selanjutnya bisa melakukan analisis melalui visualisasi data mengenai beberapa aspek yang ingin diketahui *insight* data nya"
      ]
    },
    {
      "cell_type": "markdown",
      "metadata": {
        "id": "fYJl5VJztshq"
      },
      "source": [
        "# ***DATA VISUALIZATION***"
      ]
    },
    {
      "cell_type": "markdown",
      "metadata": {
        "id": "x67iVe0FQ6RA"
      },
      "source": [
        "**CUSTOMER ACQUISITION BY YEAR**"
      ]
    },
    {
      "cell_type": "code",
      "metadata": {
        "id": "_i8YnpZOYA45"
      },
      "source": [
        "import matplotlib.pyplot as plt       # Import library visualisasi data"
      ],
      "execution_count": null,
      "outputs": []
    },
    {
      "cell_type": "code",
      "metadata": {
        "id": "G9chqTmkRU7M"
      },
      "source": [
        "# Inisiasi feature/kolom tambahan\n",
        "data_retail['Year_First_Transaction'] = data_retail['First_Transaction'].dt.year      # Kolom baru transaksi pertama dengan format tahun\n",
        "data_retail['Year_Last_Transaction'] = data_retail['Last_Transaction'].dt.year      # Kolom baru transaksi terakhir dengan format tahun"
      ],
      "execution_count": null,
      "outputs": []
    },
    {
      "cell_type": "code",
      "metadata": {
        "colab": {
          "base_uri": "https://localhost:8080/",
          "height": 365
        },
        "id": "SeX1pVTMZTAl",
        "outputId": "027238c7-7611-4284-b629-4db0858554cd"
      },
      "source": [
        "plt.figure(figsize = (15,5))      # Mengatur ukuran grafik\n",
        "\n",
        "# Grafik Pertama : Year_First_Transaction\n",
        "dr_firstyear = data_retail.groupby(['Year_First_Transaction'])['Customer_ID'].count()\n",
        "plt.subplot(1,2,1)\n",
        "dr_firstyear.plot(x='Year_First_Transaction', y='Customer_ID', kind='bar')\n",
        "plt.xlabel('Year_First_Transaction')\n",
        "plt.ylabel('Num_of_Customer')\n",
        "\n",
        "plt.title('GRAPH OF CUSTOMER ACQUISITION', pad = 30, fontsize = 30)     # Kustomisasi judul\n",
        "\n",
        "#Grafik Kedua : Year_Last_Transaction\n",
        "dr_lastyear = data_retail.groupby(['Year_Last_Transaction'])['Customer_ID'].count()\n",
        "plt.subplot(1,2,2)\n",
        "dr_lastyear.plot(x='Year_Last_Transaction', y='Customer_ID', kind='bar')\n",
        "plt.xlabel('Year_Last_Transaction')\n",
        "\n",
        "plt.tight_layout()\n",
        "plt.show()"
      ],
      "execution_count": null,
      "outputs": [
        {
          "output_type": "display_data",
          "data": {
            "image/png": "[encoded data removed]",
            "text/plain": [
              "<Figure size 1080x360 with 2 Axes>"
            ]
          },
          "metadata": {
            "tags": []
          }
        }
      ]
    },
    {
      "cell_type": "markdown",
      "metadata": {
        "id": "9NMYwTgsdOae"
      },
      "source": [
        "**TRANSACTION BY YEAR**"
      ]
    },
    {
      "cell_type": "code",
      "metadata": {
        "colab": {
          "base_uri": "https://localhost:8080/",
          "height": 365
        },
        "id": "rVYpRCDldR8a",
        "outputId": "37e81fb5-0aaa-43bb-c5b7-ebae82e5d75c"
      },
      "source": [
        "plt.figure(figsize = (15,5))      # Mengatur ukuran grafik\n",
        "\n",
        "# Grafik Pertama : Year_First_Transaction\n",
        "dr_firstyear = data_retail.groupby(['Year_First_Transaction'])['Count_Transaction'].sum()\n",
        "plt.subplot(1,2,1)\n",
        "dr_firstyear.plot(x='Year_First_Transaction', y='Count_Transaction', kind='bar')\n",
        "plt.xlabel('Year_First_Transaction')\n",
        "plt.ylabel('Num_of_Transaction')\n",
        "\n",
        "plt.title('GRAPH OF TRANSACTION CUSTOMER', pad = 30, fontsize = 30)     # Kustomisasi judul\n",
        "\n",
        "# Grafik Kedua : Year_Last_Transaction\n",
        "dr_lastyear = data_retail.groupby(['Year_Last_Transaction'])['Count_Transaction'].sum()\n",
        "plt.subplot(1,2,2)\n",
        "dr_lastyear.plot(x='Year_Last_Transaction', y='Count_Transaction', kind='bar')\n",
        "plt.xlabel('Year_Last_Transaction')\n",
        "\n",
        "plt.tight_layout()\n",
        "plt.show()"
      ],
      "execution_count": null,
      "outputs": [
        {
          "output_type": "display_data",
          "data": {
            "image/png": "[encoded data removed]",
            "text/plain": [
              "<Figure size 1080x360 with 2 Axes>"
            ]
          },
          "metadata": {
            "tags": []
          }
        }
      ]
    },
    {
      "cell_type": "markdown",
      "metadata": {
        "id": "-KPBg-zze428"
      },
      "source": [
        "**AVERAGE TRANSACTION AMOUNT BY YEAR**"
      ]
    },
    {
      "cell_type": "code",
      "metadata": {
        "id": "vyd9IdtXe3fP"
      },
      "source": [
        "import seaborn as sns"
      ],
      "execution_count": null,
      "outputs": []
    },
    {
      "cell_type": "code",
      "metadata": {
        "colab": {
          "base_uri": "https://localhost:8080/",
          "height": 365
        },
        "id": "WDrNwyhOfFtN",
        "outputId": "be87ce1b-d506-4e84-c976-3f7c6ff39ef4"
      },
      "source": [
        "plt.figure(figsize = (15,5))      # Mengatur ukuran grafik\n",
        "\n",
        "# Grafik Pertama : Year_First_Transaction\n",
        "plt.subplot(1,2,1)\n",
        "sns.pointplot(data = data_retail.groupby(['Product', 'Year_First_Transaction']).mean().reset_index(), \n",
        "              x='Year_First_Transaction', \n",
        "              y='Average_Transaction_Amount', \n",
        "              hue='Product')\n",
        "\n",
        "\n",
        "\n",
        "# Grafik Pertama : Year_First_Transaction\n",
        "plt.subplot(1,2,2)\n",
        "sns.pointplot(data = data_retail.groupby(['Product', 'Year_Last_Transaction']).mean().reset_index(), \n",
        "              x='Year_Last_Transaction', \n",
        "              y='Average_Transaction_Amount', \n",
        "              hue='Product')\n",
        "\n",
        "plt.title('GRAPH OF AVERAGE TRANSACTION AMOUNT', pad = 30, fontsize = 30)\n",
        "plt.tight_layout()\n",
        "plt.show()"
      ],
      "execution_count": null,
      "outputs": [
        {
          "output_type": "display_data",
          "data": {
            "image/png": "[encoded data removed]",
            "text/plain": [
              "<Figure size 1080x360 with 2 Axes>"
            ]
          },
          "metadata": {
            "tags": []
          }
        }
      ]
    },
    {
      "cell_type": "markdown",
      "metadata": {
        "id": "xKoLHM0nhwqa"
      },
      "source": [
        "**PROPORTION CHURN BY PRODUCT**"
      ]
    },
    {
      "cell_type": "code",
      "metadata": {
        "colab": {
          "base_uri": "https://localhost:8080/"
        },
        "id": "h_FFP-3qhv0i",
        "outputId": "57b5bb4e-ebf7-4aac-d677-3db500b056d8"
      },
      "source": [
        "# Melakukan pivot data dengan fungsi pivot_table\n",
        "dr_piv = data_retail.pivot_table(index='Churn_Cust',\n",
        "                                                  columns='Product',\n",
        "                                                  values='Customer_ID',\n",
        "                                                  aggfunc='count',\n",
        "                                                  fill_value=0)\n",
        "print(dr_piv)"
      ],
      "execution_count": null,
      "outputs": [
        {
          "output_type": "stream",
          "text": [
            "Product     Baju  Jaket  Sepatu   Tas\n",
            "Churn_Cust                           \n",
            "0           1268  11123   16064  4976\n",
            "1           2144  23827   33090  7508\n"
          ],
          "name": "stdout"
        }
      ]
    },
    {
      "cell_type": "code",
      "metadata": {
        "colab": {
          "base_uri": "https://localhost:8080/"
        },
        "id": "MY-_He6ujLCc",
        "outputId": "3e1200d2-a32a-4665-ecbc-272f40ef2bd8"
      },
      "source": [
        "# Mendapatkan Proportion Churn by Product\n",
        "plot_product = dr_piv.count().sort_values(ascending=False).head(5).index\n",
        "print(plot_product)"
      ],
      "execution_count": null,
      "outputs": [
        {
          "output_type": "stream",
          "text": [
            "Index(['Tas', 'Sepatu', 'Jaket', 'Baju'], dtype='object', name='Product')\n"
          ],
          "name": "stdout"
        }
      ]
    },
    {
      "cell_type": "code",
      "metadata": {
        "colab": {
          "base_uri": "https://localhost:8080/",
          "height": 512
        },
        "id": "Itot1nB6jxz-",
        "outputId": "95570186-a1d4-4d65-e59a-0fdbcbd2c255"
      },
      "source": [
        "# Plot data menggunakan Pie Chart\n",
        "dr_piv = dr_piv.reindex(columns=plot_product)     # Mengganti index kolom pada dataframe dr_piv dengan plot_product\n",
        "dr_piv.plot.pie(subplots=True, figsize=(15,7), layout=(-1,2), autopct='%1.0f%%', title='PROPORTION CHURN BY PRODUCT')      # Kustomisasi pie chart\n",
        "plt.tight_layout()\n",
        "plt.show()"
      ],
      "execution_count": null,
      "outputs": [
        {
          "output_type": "display_data",
          "data": {
            "image/png": "[encoded data removed]",
            "text/plain": [
              "<Figure size 1080x504 with 4 Axes>"
            ]
          },
          "metadata": {
            "tags": []
          }
        }
      ]
    },
    {
      "cell_type": "markdown",
      "metadata": {
        "id": "tCaq8TAsnXCh"
      },
      "source": [
        "**CUSTOMER DISTRIBUTION BY COUNT TRANSACTION GROUP**"
      ]
    },
    {
      "cell_type": "markdown",
      "metadata": {
        "id": "tdpN4PWoorSi"
      },
      "source": [
        "Data jumlah transaksi akan dikategorikan terlebih dahulu ke dalam beberapa rentang: 1, 2-3, 4-6, 7-10, >10"
      ]
    },
    {
      "cell_type": "code",
      "metadata": {
        "id": "RaqrwP_1nWrS"
      },
      "source": [
        "# Kategorisasi jumlah transaksi\n",
        "def func(row):\n",
        "      if row['Count_Transaction'] == 1:\n",
        "        val = '1'\n",
        "      elif (row['Count_Transaction'] > 1 and row['Count_Transaction'] <= 3):\n",
        "        val = '2-3'\n",
        "      elif (row['Count_Transaction'] > 3 and row['Count_Transaction'] <= 6):\n",
        "        val = '4-6'\n",
        "      elif (row['Count_Transaction'] > 6 and row['Count_Transaction'] <= 10):\n",
        "        val = '7-10'\n",
        "      else:\n",
        "        val = '>10'\n",
        "      return val"
      ],
      "execution_count": null,
      "outputs": []
    },
    {
      "cell_type": "code",
      "metadata": {
        "colab": {
          "base_uri": "https://localhost:8080/",
          "height": 309
        },
        "id": "yGFBztcNp_9P",
        "outputId": "c1b6e4fa-68b6-4d3a-e1db-3a162437b9a3"
      },
      "source": [
        "# Tambahkan kolom baru pada dataframe\n",
        "data_retail['Count_Transaction_Group'] = data_retail.apply(func, axis=1)\n",
        "data_retail.head()"
      ],
      "execution_count": null,
      "outputs": [
        {
          "output_type": "execute_result",
          "data": {
            "text/html": [
              "<div>\n",
              "<style scoped>\n",
              "    .dataframe tbody tr th:only-of-type {\n",
              "        vertical-align: middle;\n",
              "    }\n",
              "\n",
              "    .dataframe tbody tr th {\n",
              "        vertical-align: top;\n",
              "    }\n",
              "\n",
              "    .dataframe thead th {\n",
              "        text-align: right;\n",
              "    }\n",
              "</style>\n",
              "<table border=\"1\" class=\"dataframe\">\n",
              "  <thead>\n",
              "    <tr style=\"text-align: right;\">\n",
              "      <th></th>\n",
              "      <th>Customer_ID</th>\n",
              "      <th>Product</th>\n",
              "      <th>First_Transaction</th>\n",
              "      <th>Last_Transaction</th>\n",
              "      <th>Average_Transaction_Amount</th>\n",
              "      <th>Count_Transaction</th>\n",
              "      <th>Churn_Cust</th>\n",
              "      <th>Year_First_Transaction</th>\n",
              "      <th>Year_Last_Transaction</th>\n",
              "      <th>Count_Transaction_Group</th>\n",
              "    </tr>\n",
              "  </thead>\n",
              "  <tbody>\n",
              "    <tr>\n",
              "      <th>0</th>\n",
              "      <td>29531</td>\n",
              "      <td>Jaket</td>\n",
              "      <td>2016-06-19 02:44:34.395999908</td>\n",
              "      <td>2018-10-05 05:48:02.608000040</td>\n",
              "      <td>1467681</td>\n",
              "      <td>22</td>\n",
              "      <td>0</td>\n",
              "      <td>2016</td>\n",
              "      <td>2018</td>\n",
              "      <td>&gt;10</td>\n",
              "    </tr>\n",
              "    <tr>\n",
              "      <th>1</th>\n",
              "      <td>29531</td>\n",
              "      <td>Sepatu</td>\n",
              "      <td>2014-07-23 01:02:11.493999958</td>\n",
              "      <td>2018-12-25 11:02:41.269999981</td>\n",
              "      <td>1269337</td>\n",
              "      <td>41</td>\n",
              "      <td>0</td>\n",
              "      <td>2014</td>\n",
              "      <td>2018</td>\n",
              "      <td>&gt;10</td>\n",
              "    </tr>\n",
              "    <tr>\n",
              "      <th>2</th>\n",
              "      <td>141526</td>\n",
              "      <td>Tas</td>\n",
              "      <td>2017-04-28 03:12:27.000000000</td>\n",
              "      <td>2019-01-24 09:40:02.000000000</td>\n",
              "      <td>310915</td>\n",
              "      <td>30</td>\n",
              "      <td>0</td>\n",
              "      <td>2017</td>\n",
              "      <td>2019</td>\n",
              "      <td>&gt;10</td>\n",
              "    </tr>\n",
              "    <tr>\n",
              "      <th>3</th>\n",
              "      <td>141526</td>\n",
              "      <td>Jaket</td>\n",
              "      <td>2017-04-28 06:52:52.546999931</td>\n",
              "      <td>2019-01-16 13:00:03.911000013</td>\n",
              "      <td>722632</td>\n",
              "      <td>27</td>\n",
              "      <td>0</td>\n",
              "      <td>2017</td>\n",
              "      <td>2019</td>\n",
              "      <td>&gt;10</td>\n",
              "    </tr>\n",
              "    <tr>\n",
              "      <th>4</th>\n",
              "      <td>37545</td>\n",
              "      <td>Sepatu</td>\n",
              "      <td>2015-04-16 10:01:38.530999899</td>\n",
              "      <td>2018-11-22 12:53:41.529999970</td>\n",
              "      <td>1775036</td>\n",
              "      <td>25</td>\n",
              "      <td>0</td>\n",
              "      <td>2015</td>\n",
              "      <td>2018</td>\n",
              "      <td>&gt;10</td>\n",
              "    </tr>\n",
              "  </tbody>\n",
              "</table>\n",
              "</div>"
            ],
            "text/plain": [
              "   Customer_ID Product  ... Year_Last_Transaction Count_Transaction_Group\n",
              "0        29531   Jaket  ...                  2018                     >10\n",
              "1        29531  Sepatu  ...                  2018                     >10\n",
              "2       141526     Tas  ...                  2019                     >10\n",
              "3       141526   Jaket  ...                  2019                     >10\n",
              "4        37545  Sepatu  ...                  2018                     >10\n",
              "\n",
              "[5 rows x 10 columns]"
            ]
          },
          "metadata": {
            "tags": []
          },
          "execution_count": 198
        }
      ]
    },
    {
      "cell_type": "code",
      "metadata": {
        "colab": {
          "base_uri": "https://localhost:8080/",
          "height": 581
        },
        "id": "7dw75IVwqfYD",
        "outputId": "1cdbabf3-a2ca-4175-d191-774987048d48"
      },
      "source": [
        "# Plot data menggunakan bar chart\n",
        "plt.figure(figsize=(15,8))\n",
        "dr_year = data_retail.groupby(['Count_Transaction_Group'])['Customer_ID'].count()\n",
        "dr_year.plot(x='Count_Transaction_Group', y='Customer_ID', kind='bar')\n",
        "plt.xlabel('Count_Transaction_Group')\n",
        "plt.ylabel('Num_of_Customer')\n",
        "plt.title('CUSTOMER DISTRIBUTION BY COUNT TRANSACTION GROUP', pad=30, fontsize=30)\n",
        "plt.tight_layout()\n",
        "plt.show()"
      ],
      "execution_count": null,
      "outputs": [
        {
          "output_type": "display_data",
          "data": {
            "image/png": "[encoded data removed]",
            "text/plain": [
              "<Figure size 1080x576 with 1 Axes>"
            ]
          },
          "metadata": {
            "tags": []
          }
        }
      ]
    },
    {
      "cell_type": "markdown",
      "metadata": {
        "id": "8JHW-jbhTZGN"
      },
      "source": [
        "**CUSTOMER DISTRIBUTION BY AVERAGE TRANSACTION AMOUNT**"
      ]
    },
    {
      "cell_type": "markdown",
      "metadata": {
        "id": "BlJ7Y5oTT8FR"
      },
      "source": [
        "Data rata-rata besarnya transaksi akan dikategorikan terlebih dahulu ke dalam beberapa rentang: 100.000 - 250.000, >250.000 - 500.000, >500.000 - 750.000, >750.000 - 1.000.000, >1.000.000 - 2.500.000, >2.500.000 - 5.000.000, >5.000.000 - 10.000.000, dan >10.000.000"
      ]
    },
    {
      "cell_type": "code",
      "metadata": {
        "id": "2Z0SSZ9rTvme"
      },
      "source": [
        "# Kategorisasi rata-rata besar transaksi\n",
        "def function(row):\n",
        "      if (row['Average_Transaction_Amount'] >= 100000 and row['Average_Transaction_Amount'] <= 250000):\n",
        "        val = '1. 100.000 - 250.000'\n",
        "      elif (row['Average_Transaction_Amount'] > 250000 and row['Average_Transaction_Amount'] <= 500000):\n",
        "        val = '2. >250.000 - 500.000'\n",
        "      elif (row['Average_Transaction_Amount'] > 500000 and row['Average_Transaction_Amount'] <= 750000):\n",
        "        val = '3. >500.000 - 750.000'\n",
        "      elif (row['Average_Transaction_Amount'] > 750000 and row['Average_Transaction_Amount'] <= 1000000):\n",
        "        val = '4. >750.000 - 1.000.000'\n",
        "      elif (row['Average_Transaction_Amount'] > 1000000 and row['Average_Transaction_Amount'] <= 2500000):\n",
        "        val = '5. >1.000.000 - 2.500.000'\n",
        "      elif (row['Average_Transaction_Amount'] > 2500000 and row['Average_Transaction_Amount'] <= 5000000):\n",
        "        val = '6. >2.500.000 - 5.000.000'\n",
        "      elif (row['Average_Transaction_Amount'] > 5000000 and row['Average_Transaction_Amount'] <= 10000000):\n",
        "         val = '7. >5.000.000 - 10.000.000'\n",
        "      else:\n",
        "        val = '8. >10.000.000'\n",
        "      return val"
      ],
      "execution_count": null,
      "outputs": []
    },
    {
      "cell_type": "code",
      "metadata": {
        "colab": {
          "base_uri": "https://localhost:8080/",
          "height": 309
        },
        "id": "A1JzTN-KW4Me",
        "outputId": "bad9617f-da7d-4d75-b9db-8615861e6e79"
      },
      "source": [
        "# Tambahkan kolom baru pada dataframe\n",
        "data_retail['Avg_Transaction_Amount_Group'] = data_retail.apply(function, axis=1)\n",
        "data_retail.head()"
      ],
      "execution_count": null,
      "outputs": [
        {
          "output_type": "execute_result",
          "data": {
            "text/html": [
              "<div>\n",
              "<style scoped>\n",
              "    .dataframe tbody tr th:only-of-type {\n",
              "        vertical-align: middle;\n",
              "    }\n",
              "\n",
              "    .dataframe tbody tr th {\n",
              "        vertical-align: top;\n",
              "    }\n",
              "\n",
              "    .dataframe thead th {\n",
              "        text-align: right;\n",
              "    }\n",
              "</style>\n",
              "<table border=\"1\" class=\"dataframe\">\n",
              "  <thead>\n",
              "    <tr style=\"text-align: right;\">\n",
              "      <th></th>\n",
              "      <th>Customer_ID</th>\n",
              "      <th>Product</th>\n",
              "      <th>First_Transaction</th>\n",
              "      <th>Last_Transaction</th>\n",
              "      <th>Average_Transaction_Amount</th>\n",
              "      <th>Count_Transaction</th>\n",
              "      <th>Churn_Cust</th>\n",
              "      <th>Year_First_Transaction</th>\n",
              "      <th>Year_Last_Transaction</th>\n",
              "      <th>Count_Transaction_Group</th>\n",
              "      <th>Avg_Transaction_Amount_Group</th>\n",
              "    </tr>\n",
              "  </thead>\n",
              "  <tbody>\n",
              "    <tr>\n",
              "      <th>0</th>\n",
              "      <td>29531</td>\n",
              "      <td>Jaket</td>\n",
              "      <td>2016-06-19 02:44:34.395999908</td>\n",
              "      <td>2018-10-05 05:48:02.608000040</td>\n",
              "      <td>1467681</td>\n",
              "      <td>22</td>\n",
              "      <td>0</td>\n",
              "      <td>2016</td>\n",
              "      <td>2018</td>\n",
              "      <td>&gt;10</td>\n",
              "      <td>5. &gt;1.000.000 - 2.500.000</td>\n",
              "    </tr>\n",
              "    <tr>\n",
              "      <th>1</th>\n",
              "      <td>29531</td>\n",
              "      <td>Sepatu</td>\n",
              "      <td>2014-07-23 01:02:11.493999958</td>\n",
              "      <td>2018-12-25 11:02:41.269999981</td>\n",
              "      <td>1269337</td>\n",
              "      <td>41</td>\n",
              "      <td>0</td>\n",
              "      <td>2014</td>\n",
              "      <td>2018</td>\n",
              "      <td>&gt;10</td>\n",
              "      <td>5. &gt;1.000.000 - 2.500.000</td>\n",
              "    </tr>\n",
              "    <tr>\n",
              "      <th>2</th>\n",
              "      <td>141526</td>\n",
              "      <td>Tas</td>\n",
              "      <td>2017-04-28 03:12:27.000000000</td>\n",
              "      <td>2019-01-24 09:40:02.000000000</td>\n",
              "      <td>310915</td>\n",
              "      <td>30</td>\n",
              "      <td>0</td>\n",
              "      <td>2017</td>\n",
              "      <td>2019</td>\n",
              "      <td>&gt;10</td>\n",
              "      <td>2. &gt;250.000 - 500.000</td>\n",
              "    </tr>\n",
              "    <tr>\n",
              "      <th>3</th>\n",
              "      <td>141526</td>\n",
              "      <td>Jaket</td>\n",
              "      <td>2017-04-28 06:52:52.546999931</td>\n",
              "      <td>2019-01-16 13:00:03.911000013</td>\n",
              "      <td>722632</td>\n",
              "      <td>27</td>\n",
              "      <td>0</td>\n",
              "      <td>2017</td>\n",
              "      <td>2019</td>\n",
              "      <td>&gt;10</td>\n",
              "      <td>3. &gt;500.000 - 750.000</td>\n",
              "    </tr>\n",
              "    <tr>\n",
              "      <th>4</th>\n",
              "      <td>37545</td>\n",
              "      <td>Sepatu</td>\n",
              "      <td>2015-04-16 10:01:38.530999899</td>\n",
              "      <td>2018-11-22 12:53:41.529999970</td>\n",
              "      <td>1775036</td>\n",
              "      <td>25</td>\n",
              "      <td>0</td>\n",
              "      <td>2015</td>\n",
              "      <td>2018</td>\n",
              "      <td>&gt;10</td>\n",
              "      <td>5. &gt;1.000.000 - 2.500.000</td>\n",
              "    </tr>\n",
              "  </tbody>\n",
              "</table>\n",
              "</div>"
            ],
            "text/plain": [
              "   Customer_ID Product  ... Count_Transaction_Group Avg_Transaction_Amount_Group\n",
              "0        29531   Jaket  ...                     >10    5. >1.000.000 - 2.500.000\n",
              "1        29531  Sepatu  ...                     >10    5. >1.000.000 - 2.500.000\n",
              "2       141526     Tas  ...                     >10        2. >250.000 - 500.000\n",
              "3       141526   Jaket  ...                     >10        3. >500.000 - 750.000\n",
              "4        37545  Sepatu  ...                     >10    5. >1.000.000 - 2.500.000\n",
              "\n",
              "[5 rows x 11 columns]"
            ]
          },
          "metadata": {
            "tags": []
          },
          "execution_count": 201
        }
      ]
    },
    {
      "cell_type": "code",
      "metadata": {
        "colab": {
          "base_uri": "https://localhost:8080/",
          "height": 581
        },
        "id": "AkgQi5ZZXH9-",
        "outputId": "f4f14066-73ca-42d7-cbe3-ce9765429530"
      },
      "source": [
        "# Plot data menggunakan bar chart\n",
        "plt.figure(figsize=(15,8))\n",
        "dr_year = data_retail.groupby(['Avg_Transaction_Amount_Group'])['Customer_ID'].count()\n",
        "dr_year.plot(x='Avg_Transaction_Amount_Group', y='Customer_ID', kind='bar')\n",
        "plt.xlabel('Avg_Transaction_Amount')\n",
        "plt.ylabel('Num_of_Customer')\n",
        "plt.title('CUSTOMER DISTRIBUTION BY AVERAGE TRANSACTION AMOUNT', pad=30, fontsize=30)\n",
        "plt.tight_layout()\n",
        "plt.show()"
      ],
      "execution_count": null,
      "outputs": [
        {
          "output_type": "display_data",
          "data": {
            "image/png": "[encoded data removed]",
            "text/plain": [
              "<Figure size 1080x576 with 1 Axes>"
            ]
          },
          "metadata": {
            "tags": []
          }
        }
      ]
    },
    {
      "cell_type": "markdown",
      "metadata": {
        "id": "lR2fOv5YYbPQ"
      },
      "source": [
        "# ***ANALYSIS CONCLUSION*** "
      ]
    },
    {
      "cell_type": "markdown",
      "metadata": {
        "id": "e48Hy-wOYqf0"
      },
      "source": [
        "Berdasarkan analisis yang telah dilakukan, kesimpulan yang didapatkan antara lain :\n",
        "- Jumlah pelanggan baru semakin menurun drastis sejak tahun 2017 dengan perbedaan jumlah customer yang sangat jauh menurun dari tahun sebelumnya dan terakhir tercatat kurang dari 5000 pelanggan baru \n",
        "- Lebih dari 40 ribu customer dengan 500 ribu transaksi melakukan transaksi terakhir mereka di tahun 2018 dan tercatat sebagai churn customer di tahun berikutnya\n",
        "- Jumlah churn customer mendominasi di setiap produknya dengan perolehan lebih dari 60%\n",
        "- Hampir mendekati angka 50 ribu customer hanya melakukan satu kali transaksi  dengan rata-rata jumlah transaksi terbanyak terdapat pada rentang 1 juta sampai 2,5 juta dan hanya 50% yang bertransaksi lebih dari 10 kali \n",
        "- Produk yang paling menarik perhatian customer untuk  bertransaksi pertama kali adalah Baju dengan perolehan rata-rata jumlah transaksi tertinggi terjadi di tahun 2018 didukung dengan rendahnya transaksi terakhir yang dilakukan customer pada tahun berikutnya. Hal ini harus dipertimbangkan oleh divisi terkait untuk melakukan pengembangan agar tetap mempertahankan dan bisa meningkatkan pendapatan pada produk tersebut\n",
        "-Tas menjadi produk yang paling sedikit menarik perhatian customer untuk membelanjakan uangnya. Masalah ini perlu ditinjau kembali oleh divisi terkait apakah akan melakukan inovasi atau tindakan lain agar tidak terjadi masalah yang sama di tahun berikutnya.\n",
        "- Besarnya churn customer harus menjadi hal yang sangat perlu diperhatikan karena menjadi pengaruh terbesar dalam perolehan jumlah transaksi customer setiap tahunnya. Hal ini bisa diatasi dengan membuat promosi layanan yang jauh lebih menarik dan tepat sasaran terutama demi mencegah berkurangnya pelanggan dan menumbuhkan tingkat loyalitasnya dengan produk yang ditawarkan."
      ]
    },
    {
      "cell_type": "markdown",
      "metadata": {
        "id": "8FlXQtTrtzDV"
      },
      "source": [
        "# ***DATA MODELLING***"
      ]
    },
    {
      "cell_type": "markdown",
      "metadata": {
        "id": "CgqEnO-mases"
      },
      "source": [
        "**LABEL ENCODING DATA**"
      ]
    },
    {
      "cell_type": "markdown",
      "metadata": {
        "id": "-U9pYfT7a0Vj"
      },
      "source": [
        "Mengubah kolom Product dan Avg_Transaction_Amount_Group yang semula bertipe object menjadi tipe numerik agar memudahkan saat modellling data"
      ]
    },
    {
      "cell_type": "code",
      "metadata": {
        "colab": {
          "base_uri": "https://localhost:8080/"
        },
        "id": "5jfFkpv8anVK",
        "outputId": "7c76c911-7da7-4b96-c7d6-e5a4e78948ca"
      },
      "source": [
        "# Kolom Product\n",
        "le = LabelEncoder()\n",
        "data_retail['Product'] = le.fit_transform(data_retail['Product'])\n",
        "print(le.classes_)\n",
        "print(np.sort(data_retail['Product'].unique()))"
      ],
      "execution_count": null,
      "outputs": [
        {
          "output_type": "stream",
          "text": [
            "['Baju' 'Jaket' 'Sepatu' 'Tas']\n",
            "[0 1 2 3]\n"
          ],
          "name": "stdout"
        }
      ]
    },
    {
      "cell_type": "code",
      "metadata": {
        "colab": {
          "base_uri": "https://localhost:8080/"
        },
        "id": "iQK8cns3cEFH",
        "outputId": "009b0737-f24d-4eda-f8f3-875798419cd2"
      },
      "source": [
        "# Kolom Avg_Transaction_Amount_Group\n",
        "le = LabelEncoder()\n",
        "data_retail['Avg_Transaction_Amount_Group'] = le.fit_transform(data_retail['Avg_Transaction_Amount_Group'])\n",
        "print(le.classes_)\n",
        "print(np.sort(data_retail['Avg_Transaction_Amount_Group'].unique()))"
      ],
      "execution_count": null,
      "outputs": [
        {
          "output_type": "stream",
          "text": [
            "['1. 100.000 - 250.000' '2. >250.000 - 500.000' '3. >500.000 - 750.000'\n",
            " '4. >750.000 - 1.000.000' '5. >1.000.000 - 2.500.000'\n",
            " '6. >2.500.000 - 5.000.000' '7. >5.000.000 - 10.000.000' '8. >10.000.000']\n",
            "[0 1 2 3 4 5 6 7]\n"
          ],
          "name": "stdout"
        }
      ]
    },
    {
      "cell_type": "code",
      "metadata": {
        "colab": {
          "base_uri": "https://localhost:8080/",
          "height": 309
        },
        "id": "mP9FErATcnc8",
        "outputId": "cf1fd500-8f1d-4940-88cd-e8e6adda3803"
      },
      "source": [
        "# Cek dataframe setelah dilakukan modifikasi\n",
        "data_retail.head()"
      ],
      "execution_count": null,
      "outputs": [
        {
          "output_type": "execute_result",
          "data": {
            "text/html": [
              "<div>\n",
              "<style scoped>\n",
              "    .dataframe tbody tr th:only-of-type {\n",
              "        vertical-align: middle;\n",
              "    }\n",
              "\n",
              "    .dataframe tbody tr th {\n",
              "        vertical-align: top;\n",
              "    }\n",
              "\n",
              "    .dataframe thead th {\n",
              "        text-align: right;\n",
              "    }\n",
              "</style>\n",
              "<table border=\"1\" class=\"dataframe\">\n",
              "  <thead>\n",
              "    <tr style=\"text-align: right;\">\n",
              "      <th></th>\n",
              "      <th>Customer_ID</th>\n",
              "      <th>Product</th>\n",
              "      <th>First_Transaction</th>\n",
              "      <th>Last_Transaction</th>\n",
              "      <th>Average_Transaction_Amount</th>\n",
              "      <th>Count_Transaction</th>\n",
              "      <th>Churn_Cust</th>\n",
              "      <th>Year_First_Transaction</th>\n",
              "      <th>Year_Last_Transaction</th>\n",
              "      <th>Count_Transaction_Group</th>\n",
              "      <th>Avg_Transaction_Amount_Group</th>\n",
              "    </tr>\n",
              "  </thead>\n",
              "  <tbody>\n",
              "    <tr>\n",
              "      <th>0</th>\n",
              "      <td>29531</td>\n",
              "      <td>1</td>\n",
              "      <td>2016-06-19 02:44:34.395999908</td>\n",
              "      <td>2018-10-05 05:48:02.608000040</td>\n",
              "      <td>1467681</td>\n",
              "      <td>22</td>\n",
              "      <td>0</td>\n",
              "      <td>2016</td>\n",
              "      <td>2018</td>\n",
              "      <td>&gt;10</td>\n",
              "      <td>4</td>\n",
              "    </tr>\n",
              "    <tr>\n",
              "      <th>1</th>\n",
              "      <td>29531</td>\n",
              "      <td>2</td>\n",
              "      <td>2014-07-23 01:02:11.493999958</td>\n",
              "      <td>2018-12-25 11:02:41.269999981</td>\n",
              "      <td>1269337</td>\n",
              "      <td>41</td>\n",
              "      <td>0</td>\n",
              "      <td>2014</td>\n",
              "      <td>2018</td>\n",
              "      <td>&gt;10</td>\n",
              "      <td>4</td>\n",
              "    </tr>\n",
              "    <tr>\n",
              "      <th>2</th>\n",
              "      <td>141526</td>\n",
              "      <td>3</td>\n",
              "      <td>2017-04-28 03:12:27.000000000</td>\n",
              "      <td>2019-01-24 09:40:02.000000000</td>\n",
              "      <td>310915</td>\n",
              "      <td>30</td>\n",
              "      <td>0</td>\n",
              "      <td>2017</td>\n",
              "      <td>2019</td>\n",
              "      <td>&gt;10</td>\n",
              "      <td>1</td>\n",
              "    </tr>\n",
              "    <tr>\n",
              "      <th>3</th>\n",
              "      <td>141526</td>\n",
              "      <td>1</td>\n",
              "      <td>2017-04-28 06:52:52.546999931</td>\n",
              "      <td>2019-01-16 13:00:03.911000013</td>\n",
              "      <td>722632</td>\n",
              "      <td>27</td>\n",
              "      <td>0</td>\n",
              "      <td>2017</td>\n",
              "      <td>2019</td>\n",
              "      <td>&gt;10</td>\n",
              "      <td>2</td>\n",
              "    </tr>\n",
              "    <tr>\n",
              "      <th>4</th>\n",
              "      <td>37545</td>\n",
              "      <td>2</td>\n",
              "      <td>2015-04-16 10:01:38.530999899</td>\n",
              "      <td>2018-11-22 12:53:41.529999970</td>\n",
              "      <td>1775036</td>\n",
              "      <td>25</td>\n",
              "      <td>0</td>\n",
              "      <td>2015</td>\n",
              "      <td>2018</td>\n",
              "      <td>&gt;10</td>\n",
              "      <td>4</td>\n",
              "    </tr>\n",
              "  </tbody>\n",
              "</table>\n",
              "</div>"
            ],
            "text/plain": [
              "   Customer_ID  Product  ... Count_Transaction_Group Avg_Transaction_Amount_Group\n",
              "0        29531        1  ...                     >10                            4\n",
              "1        29531        2  ...                     >10                            4\n",
              "2       141526        3  ...                     >10                            1\n",
              "3       141526        1  ...                     >10                            2\n",
              "4        37545        2  ...                     >10                            4\n",
              "\n",
              "[5 rows x 11 columns]"
            ]
          },
          "metadata": {
            "tags": []
          },
          "execution_count": 205
        }
      ]
    },
    {
      "cell_type": "code",
      "metadata": {
        "colab": {
          "base_uri": "https://localhost:8080/"
        },
        "id": "Ed1aZxEVc8kY",
        "outputId": "6018033e-f35e-43fd-c4af-6d1c9872c3a4"
      },
      "source": [
        "# Cek informasi dataframe\n",
        "data_retail.info()"
      ],
      "execution_count": null,
      "outputs": [
        {
          "output_type": "stream",
          "text": [
            "<class 'pandas.core.frame.DataFrame'>\n",
            "RangeIndex: 100000 entries, 0 to 99999\n",
            "Data columns (total 11 columns):\n",
            " #   Column                        Non-Null Count   Dtype         \n",
            "---  ------                        --------------   -----         \n",
            " 0   Customer_ID                   100000 non-null  int64         \n",
            " 1   Product                       100000 non-null  int64         \n",
            " 2   First_Transaction             100000 non-null  datetime64[ns]\n",
            " 3   Last_Transaction              100000 non-null  datetime64[ns]\n",
            " 4   Average_Transaction_Amount    100000 non-null  int64         \n",
            " 5   Count_Transaction             100000 non-null  int64         \n",
            " 6   Churn_Cust                    100000 non-null  int64         \n",
            " 7   Year_First_Transaction        100000 non-null  int64         \n",
            " 8   Year_Last_Transaction         100000 non-null  int64         \n",
            " 9   Count_Transaction_Group       100000 non-null  object        \n",
            " 10  Avg_Transaction_Amount_Group  100000 non-null  int64         \n",
            "dtypes: datetime64[ns](2), int64(8), object(1)\n",
            "memory usage: 8.4+ MB\n"
          ],
          "name": "stdout"
        }
      ]
    },
    {
      "cell_type": "markdown",
      "metadata": {
        "id": "EokFB6x1dKTz"
      },
      "source": [
        "**CORRELATION BETWEEN VARIABLES**"
      ]
    },
    {
      "cell_type": "code",
      "metadata": {
        "colab": {
          "base_uri": "https://localhost:8080/",
          "height": 785
        },
        "id": "lo5IeiGRdPnV",
        "outputId": "8fc69322-f3c5-41e7-df81-9221401def84"
      },
      "source": [
        "# Correlation between variables\n",
        "plt.figure(figsize=(15,10))\n",
        "sns.set(font_scale=1)\n",
        "sns.heatmap(data_retail.corr(), linewidths=.5, annot=True)"
      ],
      "execution_count": null,
      "outputs": [
        {
          "output_type": "execute_result",
          "data": {
            "text/plain": [
              "<matplotlib.axes._subplots.AxesSubplot at 0x7f23513f6bd0>"
            ]
          },
          "metadata": {
            "tags": []
          },
          "execution_count": 207
        },
        {
          "output_type": "display_data",
          "data": {
            "image/png": "[encoded data removed]",
            "text/plain": [
              "<Figure size 1080x720 with 2 Axes>"
            ]
          },
          "metadata": {
            "tags": []
          }
        }
      ]
    },
    {
      "cell_type": "markdown",
      "metadata": {
        "id": "eJewh560dmDH"
      },
      "source": [
        "**Note** : Korelasi antara label churn_Cust dan variabel lain adalah negatif. Variabel seperti jumlah transaksi, produk, dan transaksi tahun pertama adalah beberapa korelasi teratas."
      ]
    },
    {
      "cell_type": "markdown",
      "metadata": {
        "id": "UEKLevKTw40b"
      },
      "source": [
        "MELAKUKAN MODELLING DATA MENGGUNAKAN STATISTIKA DASAR"
      ]
    },
    {
      "cell_type": "markdown",
      "metadata": {
        "id": "dwVaXo_KmIny"
      },
      "source": [
        "**GET FEATURE COLUMNS & TARGET**"
      ]
    },
    {
      "cell_type": "markdown",
      "metadata": {
        "id": "xUAOTQSbmezM"
      },
      "source": [
        "Menentukan *feature columns* dari dataset yang dimiliki diantaranya kolom  *Avg_Transaction_Amount, Count_Transaction,* dan *Year_Diff*. *Year_Diff* disini adalah rentang waktu terhitung sejak transaksi pertama sampai transaksi terakhir dari setiap pelanggan. Selain itu, akan ditentukan *target column* sesuai permasalahan yakni kondisi churn atau tidak (kategorikal)"
      ]
    },
    {
      "cell_type": "code",
      "metadata": {
        "colab": {
          "base_uri": "https://localhost:8080/",
          "height": 309
        },
        "id": "EBAfqvSVnR-g",
        "outputId": "a3143aa0-0926-44b4-f4ff-7894ebe69b29"
      },
      "source": [
        "# Membuat kolom baru Year_Diff\n",
        "data_retail['Year_Diff'] = data_retail['Year_Last_Transaction'] - data_retail['Year_First_Transaction']\n",
        "data_retail.head()      # Cek gambaran isi dataset terbaru"
      ],
      "execution_count": null,
      "outputs": [
        {
          "output_type": "execute_result",
          "data": {
            "text/html": [
              "<div>\n",
              "<style scoped>\n",
              "    .dataframe tbody tr th:only-of-type {\n",
              "        vertical-align: middle;\n",
              "    }\n",
              "\n",
              "    .dataframe tbody tr th {\n",
              "        vertical-align: top;\n",
              "    }\n",
              "\n",
              "    .dataframe thead th {\n",
              "        text-align: right;\n",
              "    }\n",
              "</style>\n",
              "<table border=\"1\" class=\"dataframe\">\n",
              "  <thead>\n",
              "    <tr style=\"text-align: right;\">\n",
              "      <th></th>\n",
              "      <th>Customer_ID</th>\n",
              "      <th>Product</th>\n",
              "      <th>First_Transaction</th>\n",
              "      <th>Last_Transaction</th>\n",
              "      <th>Average_Transaction_Amount</th>\n",
              "      <th>Count_Transaction</th>\n",
              "      <th>Churn_Cust</th>\n",
              "      <th>Year_First_Transaction</th>\n",
              "      <th>Year_Last_Transaction</th>\n",
              "      <th>Count_Transaction_Group</th>\n",
              "      <th>Avg_Transaction_Amount_Group</th>\n",
              "      <th>Year_Diff</th>\n",
              "    </tr>\n",
              "  </thead>\n",
              "  <tbody>\n",
              "    <tr>\n",
              "      <th>0</th>\n",
              "      <td>29531</td>\n",
              "      <td>1</td>\n",
              "      <td>2016-06-19 02:44:34.395999908</td>\n",
              "      <td>2018-10-05 05:48:02.608000040</td>\n",
              "      <td>1467681</td>\n",
              "      <td>22</td>\n",
              "      <td>0</td>\n",
              "      <td>2016</td>\n",
              "      <td>2018</td>\n",
              "      <td>&gt;10</td>\n",
              "      <td>4</td>\n",
              "      <td>2</td>\n",
              "    </tr>\n",
              "    <tr>\n",
              "      <th>1</th>\n",
              "      <td>29531</td>\n",
              "      <td>2</td>\n",
              "      <td>2014-07-23 01:02:11.493999958</td>\n",
              "      <td>2018-12-25 11:02:41.269999981</td>\n",
              "      <td>1269337</td>\n",
              "      <td>41</td>\n",
              "      <td>0</td>\n",
              "      <td>2014</td>\n",
              "      <td>2018</td>\n",
              "      <td>&gt;10</td>\n",
              "      <td>4</td>\n",
              "      <td>4</td>\n",
              "    </tr>\n",
              "    <tr>\n",
              "      <th>2</th>\n",
              "      <td>141526</td>\n",
              "      <td>3</td>\n",
              "      <td>2017-04-28 03:12:27.000000000</td>\n",
              "      <td>2019-01-24 09:40:02.000000000</td>\n",
              "      <td>310915</td>\n",
              "      <td>30</td>\n",
              "      <td>0</td>\n",
              "      <td>2017</td>\n",
              "      <td>2019</td>\n",
              "      <td>&gt;10</td>\n",
              "      <td>1</td>\n",
              "      <td>2</td>\n",
              "    </tr>\n",
              "    <tr>\n",
              "      <th>3</th>\n",
              "      <td>141526</td>\n",
              "      <td>1</td>\n",
              "      <td>2017-04-28 06:52:52.546999931</td>\n",
              "      <td>2019-01-16 13:00:03.911000013</td>\n",
              "      <td>722632</td>\n",
              "      <td>27</td>\n",
              "      <td>0</td>\n",
              "      <td>2017</td>\n",
              "      <td>2019</td>\n",
              "      <td>&gt;10</td>\n",
              "      <td>2</td>\n",
              "      <td>2</td>\n",
              "    </tr>\n",
              "    <tr>\n",
              "      <th>4</th>\n",
              "      <td>37545</td>\n",
              "      <td>2</td>\n",
              "      <td>2015-04-16 10:01:38.530999899</td>\n",
              "      <td>2018-11-22 12:53:41.529999970</td>\n",
              "      <td>1775036</td>\n",
              "      <td>25</td>\n",
              "      <td>0</td>\n",
              "      <td>2015</td>\n",
              "      <td>2018</td>\n",
              "      <td>&gt;10</td>\n",
              "      <td>4</td>\n",
              "      <td>3</td>\n",
              "    </tr>\n",
              "  </tbody>\n",
              "</table>\n",
              "</div>"
            ],
            "text/plain": [
              "   Customer_ID  Product  ... Avg_Transaction_Amount_Group Year_Diff\n",
              "0        29531        1  ...                            4         2\n",
              "1        29531        2  ...                            4         4\n",
              "2       141526        3  ...                            1         2\n",
              "3       141526        1  ...                            2         2\n",
              "4        37545        2  ...                            4         3\n",
              "\n",
              "[5 rows x 12 columns]"
            ]
          },
          "metadata": {
            "tags": []
          },
          "execution_count": 208
        }
      ]
    },
    {
      "cell_type": "code",
      "metadata": {
        "id": "TBFQI3i6n4ut"
      },
      "source": [
        "# List feature columns\n",
        "feature_col = ['Average_Transaction_Amount', 'Count_Transaction', 'Year_Diff']"
      ],
      "execution_count": null,
      "outputs": []
    },
    {
      "cell_type": "code",
      "metadata": {
        "colab": {
          "base_uri": "https://localhost:8080/"
        },
        "id": "FzQ3ZiYuoTx6",
        "outputId": "8a2af920-8d53-4de7-ffd8-093e21d27ec7"
      },
      "source": [
        "# Assign feature columns to variable X\n",
        "X = data_retail[feature_col]\n",
        "print('Feature Columns\\n', X.head())      # Cek gambaran feature columns\n",
        "\n",
        "# Assign target/label column to variable y\n",
        "y = data_retail['Churn_Cust']\n",
        "print('\\nTarget Column\\n', y.head())      # Cek gambaran target column"
      ],
      "execution_count": null,
      "outputs": [
        {
          "output_type": "stream",
          "text": [
            "Feature Columns\n",
            "    Average_Transaction_Amount  Count_Transaction  Year_Diff\n",
            "0                     1467681                 22          2\n",
            "1                     1269337                 41          4\n",
            "2                      310915                 30          2\n",
            "3                      722632                 27          2\n",
            "4                     1775036                 25          3\n",
            "\n",
            "Target Column\n",
            " 0    0\n",
            "1    0\n",
            "2    0\n",
            "3    0\n",
            "4    0\n",
            "Name: Churn_Cust, dtype: int64\n"
          ],
          "name": "stdout"
        }
      ]
    },
    {
      "cell_type": "markdown",
      "metadata": {
        "id": "waPYTPaepXwa"
      },
      "source": [
        "**SPLIT TRAINING & TEST DATASET**"
      ]
    },
    {
      "cell_type": "code",
      "metadata": {
        "id": "D6U7XHPIpbP8"
      },
      "source": [
        "from sklearn.model_selection import train_test_split"
      ],
      "execution_count": null,
      "outputs": []
    },
    {
      "cell_type": "code",
      "metadata": {
        "colab": {
          "base_uri": "https://localhost:8080/"
        },
        "id": "HCacCstEphtV",
        "outputId": "7449fa99-b525-4e73-85a3-3d8c64a746d4"
      },
      "source": [
        "# Split training & test dataset \n",
        "X_train, X_test, y_train, y_test = train_test_split(X, y, test_size=0.25, random_state=0)     # Membagi train & test dataset dengan proporsi training dan test dataset 75:25 dari jumlah seluruh data\n",
        "\n",
        "# Cek ukuran training & test dataset\n",
        "print('X_train\\n', X_train.shape)\n",
        "print('\\ny_train\\n', y_train.shape)\n",
        "print('\\nX_test\\n', X_test.shape)\n",
        "print('\\ny_test\\n', y_test.shape)"
      ],
      "execution_count": null,
      "outputs": [
        {
          "output_type": "stream",
          "text": [
            "X_train\n",
            " (75000, 3)\n",
            "\n",
            "y_train\n",
            " (75000,)\n",
            "\n",
            "X_test\n",
            " (25000, 3)\n",
            "\n",
            "y_test\n",
            " (25000,)\n"
          ],
          "name": "stdout"
        }
      ]
    },
    {
      "cell_type": "markdown",
      "metadata": {
        "id": "4f1usNSlrQ9s"
      },
      "source": [
        "# **COMPARE MODELS**"
      ]
    },
    {
      "cell_type": "markdown",
      "metadata": {
        "id": "XFeu4m_HgaRC"
      },
      "source": [
        "Membuat model dengan menggunakan machine learning tipe *Supervised Learning* dan melakukan eksperimen dengan beberapa algoritma model yang sesuai untuk kolom target/output data sudah diketahui dan merupakan numerical variable yang tergolong categorical/discrete value (True/False or 1/0) untuk menemukan model yang paling tepat dalam prediksi"
      ]
    },
    {
      "cell_type": "markdown",
      "metadata": {
        "id": "wix-HmVM757B"
      },
      "source": [
        "***MODEL 1 : LOGISTIC REGRESSION***"
      ]
    },
    {
      "cell_type": "code",
      "metadata": {
        "id": "qAbbspF875P8"
      },
      "source": [
        "from sklearn.linear_model import LogisticRegression       # Import library model"
      ],
      "execution_count": null,
      "outputs": []
    },
    {
      "cell_type": "code",
      "metadata": {
        "colab": {
          "base_uri": "https://localhost:8080/"
        },
        "id": "wLvvOQtY-s3s",
        "outputId": "7be555fc-d87a-4885-b132-ad65ee0b0a5a"
      },
      "source": [
        "logreg = LogisticRegression()       # Inisiasi model\n",
        "logreg.fit(X_train, y_train)        # Fit the model to training data"
      ],
      "execution_count": null,
      "outputs": [
        {
          "output_type": "execute_result",
          "data": {
            "text/plain": [
              "LogisticRegression(C=1.0, class_weight=None, dual=False, fit_intercept=True,\n",
              "                   intercept_scaling=1, l1_ratio=None, max_iter=100,\n",
              "                   multi_class='auto', n_jobs=None, penalty='l2',\n",
              "                   random_state=None, solver='lbfgs', tol=0.0001, verbose=0,\n",
              "                   warm_start=False)"
            ]
          },
          "metadata": {
            "tags": []
          },
          "execution_count": 142
        }
      ]
    },
    {
      "cell_type": "markdown",
      "metadata": {
        "id": "XcfR0RPj_K2k"
      },
      "source": [
        "**- Performa Model pada Training Data**\n",
        "\n",
        "\n",
        "\n",
        "\n",
        "\n",
        "\n"
      ]
    },
    {
      "cell_type": "code",
      "metadata": {
        "id": "v0QBxnDD_ep3"
      },
      "source": [
        "from sklearn.metrics import confusion_matrix, classification_report"
      ],
      "execution_count": null,
      "outputs": []
    },
    {
      "cell_type": "code",
      "metadata": {
        "id": "fPcsAeyi_-YN"
      },
      "source": [
        "y_train_pred = logreg.predict(X_train)        # Predict model to training dataset"
      ],
      "execution_count": null,
      "outputs": []
    },
    {
      "cell_type": "code",
      "metadata": {
        "colab": {
          "base_uri": "https://localhost:8080/"
        },
        "id": "39qDSsjVBRP3",
        "outputId": "b7c1d437-3187-4fc4-d7df-5185d530b6c4"
      },
      "source": [
        "print(classification_report(y_train, y_train_pred))       # Performa prediksi terhadap real label dari train dataset"
      ],
      "execution_count": null,
      "outputs": [
        {
          "output_type": "stream",
          "text": [
            "              precision    recall  f1-score   support\n",
            "\n",
            "           0       0.31      0.00      0.00     25100\n",
            "           1       0.67      1.00      0.80     49900\n",
            "\n",
            "    accuracy                           0.67     75000\n",
            "   macro avg       0.49      0.50      0.40     75000\n",
            "weighted avg       0.55      0.67      0.53     75000\n",
            "\n"
          ],
          "name": "stdout"
        }
      ]
    },
    {
      "cell_type": "markdown",
      "metadata": {
        "id": "bC7eDmB0G3sE"
      },
      "source": [
        "**- Performa Model pada Test Data**\n",
        "\n"
      ]
    },
    {
      "cell_type": "code",
      "metadata": {
        "id": "loZsspMaVCOJ"
      },
      "source": [
        "y_test_pred = logreg.predict(X_test)        # Predict model to test data"
      ],
      "execution_count": null,
      "outputs": []
    },
    {
      "cell_type": "code",
      "metadata": {
        "colab": {
          "base_uri": "https://localhost:8080/"
        },
        "id": "pSr1IJXdVvr5",
        "outputId": "d15b8391-4c1b-4518-ba6b-b914db44675c"
      },
      "source": [
        "print(classification_report(y_test, y_test_pred))       # Performa prediksi terhadap real label dari test dataset"
      ],
      "execution_count": null,
      "outputs": [
        {
          "output_type": "stream",
          "text": [
            "              precision    recall  f1-score   support\n",
            "\n",
            "           0       0.25      0.00      0.00      8331\n",
            "           1       0.67      1.00      0.80     16669\n",
            "\n",
            "    accuracy                           0.67     25000\n",
            "   macro avg       0.46      0.50      0.40     25000\n",
            "weighted avg       0.53      0.67      0.53     25000\n",
            "\n"
          ],
          "name": "stdout"
        }
      ]
    },
    {
      "cell_type": "markdown",
      "metadata": {
        "id": "UlvlVoU3WlMI"
      },
      "source": [
        "***MODEL 2 : RANDOM FOREST CLASSIFIER***"
      ]
    },
    {
      "cell_type": "code",
      "metadata": {
        "id": "O9vaFZicWs2V"
      },
      "source": [
        "from sklearn.ensemble import RandomForestClassifier"
      ],
      "execution_count": null,
      "outputs": []
    },
    {
      "cell_type": "code",
      "metadata": {
        "colab": {
          "base_uri": "https://localhost:8080/"
        },
        "id": "tTS2ene8YHLJ",
        "outputId": "6ea8e421-dce7-46ce-ebbb-85cdab817281"
      },
      "source": [
        "randfor = RandomForestClassifier()        # Inisiasi model\n",
        "randfor.fit(X_train, y_train)       # Fit the model to training data"
      ],
      "execution_count": null,
      "outputs": [
        {
          "output_type": "execute_result",
          "data": {
            "text/plain": [
              "RandomForestClassifier(bootstrap=True, ccp_alpha=0.0, class_weight=None,\n",
              "                       criterion='gini', max_depth=None, max_features='auto',\n",
              "                       max_leaf_nodes=None, max_samples=None,\n",
              "                       min_impurity_decrease=0.0, min_impurity_split=None,\n",
              "                       min_samples_leaf=1, min_samples_split=2,\n",
              "                       min_weight_fraction_leaf=0.0, n_estimators=100,\n",
              "                       n_jobs=None, oob_score=False, random_state=None,\n",
              "                       verbose=0, warm_start=False)"
            ]
          },
          "metadata": {
            "tags": []
          },
          "execution_count": 152
        }
      ]
    },
    {
      "cell_type": "markdown",
      "metadata": {
        "id": "qMk6ILONZBcn"
      },
      "source": [
        "**- Performa Model pada Training Data**"
      ]
    },
    {
      "cell_type": "code",
      "metadata": {
        "id": "hF5WQztLYytW"
      },
      "source": [
        "ytrain_pred = randfor.predict(X_train)        # Predict model to training dataset"
      ],
      "execution_count": null,
      "outputs": []
    },
    {
      "cell_type": "code",
      "metadata": {
        "colab": {
          "base_uri": "https://localhost:8080/"
        },
        "id": "9lyqMajMZUOM",
        "outputId": "d6074b95-edbf-4774-b1b4-96a40fa29df8"
      },
      "source": [
        "print(classification_report(y_train, ytrain_pred))       # Performa prediksi terhadap real label dari train dataset"
      ],
      "execution_count": null,
      "outputs": [
        {
          "output_type": "stream",
          "text": [
            "              precision    recall  f1-score   support\n",
            "\n",
            "           0       1.00      0.99      1.00     25100\n",
            "           1       1.00      1.00      1.00     49900\n",
            "\n",
            "    accuracy                           1.00     75000\n",
            "   macro avg       1.00      1.00      1.00     75000\n",
            "weighted avg       1.00      1.00      1.00     75000\n",
            "\n"
          ],
          "name": "stdout"
        }
      ]
    },
    {
      "cell_type": "markdown",
      "metadata": {
        "id": "q_LRicJ2c-Pi"
      },
      "source": [
        "**- Performa Model pada Test Data**"
      ]
    },
    {
      "cell_type": "code",
      "metadata": {
        "id": "iZS4byU8c27X"
      },
      "source": [
        "ytest_pred = randfor.predict(X_test)        # Predict model to test data"
      ],
      "execution_count": null,
      "outputs": []
    },
    {
      "cell_type": "code",
      "metadata": {
        "colab": {
          "base_uri": "https://localhost:8080/"
        },
        "id": "o5mTC3ftf_BL",
        "outputId": "b06b3eab-469e-4f27-f6b7-17c4b267e636"
      },
      "source": [
        "print(classification_report(y_test, ytest_pred))       # Performa prediksi terhadap real label dari test dataset"
      ],
      "execution_count": null,
      "outputs": [
        {
          "output_type": "stream",
          "text": [
            "              precision    recall  f1-score   support\n",
            "\n",
            "           0       0.49      0.50      0.49      8331\n",
            "           1       0.75      0.74      0.74     16669\n",
            "\n",
            "    accuracy                           0.66     25000\n",
            "   macro avg       0.62      0.62      0.62     25000\n",
            "weighted avg       0.66      0.66      0.66     25000\n",
            "\n"
          ],
          "name": "stdout"
        }
      ]
    },
    {
      "cell_type": "markdown",
      "metadata": {
        "id": "20gJ2sv4SkuZ"
      },
      "source": [
        "***MODEL 3 : GRADIENT BOOSTING CLASSIFIER***"
      ]
    },
    {
      "cell_type": "code",
      "metadata": {
        "id": "MIEGc5AuS2FN"
      },
      "source": [
        "from sklearn.ensemble import GradientBoostingClassifier"
      ],
      "execution_count": null,
      "outputs": []
    },
    {
      "cell_type": "code",
      "metadata": {
        "colab": {
          "base_uri": "https://localhost:8080/"
        },
        "id": "otA1y7oVTFuN",
        "outputId": "ac44f138-68b5-4e7d-e44b-c4fe086c3d9f"
      },
      "source": [
        "gb = GradientBoostingClassifier()        # Inisiasi model\n",
        "gb.fit(X_train, y_train)       # Fit the model to training data"
      ],
      "execution_count": null,
      "outputs": [
        {
          "output_type": "execute_result",
          "data": {
            "text/plain": [
              "GradientBoostingClassifier(ccp_alpha=0.0, criterion='friedman_mse', init=None,\n",
              "                           learning_rate=0.1, loss='deviance', max_depth=3,\n",
              "                           max_features=None, max_leaf_nodes=None,\n",
              "                           min_impurity_decrease=0.0, min_impurity_split=None,\n",
              "                           min_samples_leaf=1, min_samples_split=2,\n",
              "                           min_weight_fraction_leaf=0.0, n_estimators=100,\n",
              "                           n_iter_no_change=None, presort='deprecated',\n",
              "                           random_state=None, subsample=1.0, tol=0.0001,\n",
              "                           validation_fraction=0.1, verbose=0,\n",
              "                           warm_start=False)"
            ]
          },
          "metadata": {
            "tags": []
          },
          "execution_count": 160
        }
      ]
    },
    {
      "cell_type": "markdown",
      "metadata": {
        "id": "WzmH8yXNTjcX"
      },
      "source": [
        "**- Performa Model pada Training Data**"
      ]
    },
    {
      "cell_type": "code",
      "metadata": {
        "id": "AnGt8O6DTkUm"
      },
      "source": [
        "ytrainpred = gb.predict(X_train)        # Predict model to training dataset"
      ],
      "execution_count": null,
      "outputs": []
    },
    {
      "cell_type": "code",
      "metadata": {
        "colab": {
          "base_uri": "https://localhost:8080/"
        },
        "id": "883R_UvbTx65",
        "outputId": "898c6bbc-4d33-477f-8510-d6d9de5599d1"
      },
      "source": [
        "print(classification_report(y_train, ytrainpred))       # Performa prediksi terhadap real label dari train dataset"
      ],
      "execution_count": null,
      "outputs": [
        {
          "output_type": "stream",
          "text": [
            "              precision    recall  f1-score   support\n",
            "\n",
            "           0       0.77      0.45      0.57     25100\n",
            "           1       0.77      0.93      0.84     49900\n",
            "\n",
            "    accuracy                           0.77     75000\n",
            "   macro avg       0.77      0.69      0.70     75000\n",
            "weighted avg       0.77      0.77      0.75     75000\n",
            "\n"
          ],
          "name": "stdout"
        }
      ]
    },
    {
      "cell_type": "markdown",
      "metadata": {
        "id": "203ciDBQUDyF"
      },
      "source": [
        "**- Performa Model pada Test Data**"
      ]
    },
    {
      "cell_type": "code",
      "metadata": {
        "id": "4ZdOC-MsUEp8"
      },
      "source": [
        "ytestpred = gb.predict(X_test)        # Predict model to test data"
      ],
      "execution_count": null,
      "outputs": []
    },
    {
      "cell_type": "code",
      "metadata": {
        "colab": {
          "base_uri": "https://localhost:8080/"
        },
        "id": "S4ZQ2rZMUSMh",
        "outputId": "e42b9a51-e6b0-4694-c929-5bbbf71e5cd5"
      },
      "source": [
        "print(classification_report(y_test, ytestpred))       # Performa prediksi terhadap real label dari test dataset"
      ],
      "execution_count": null,
      "outputs": [
        {
          "output_type": "stream",
          "text": [
            "              precision    recall  f1-score   support\n",
            "\n",
            "           0       0.77      0.45      0.57      8331\n",
            "           1       0.77      0.93      0.85     16669\n",
            "\n",
            "    accuracy                           0.77     25000\n",
            "   macro avg       0.77      0.69      0.71     25000\n",
            "weighted avg       0.77      0.77      0.75     25000\n",
            "\n"
          ],
          "name": "stdout"
        }
      ]
    },
    {
      "cell_type": "markdown",
      "metadata": {
        "id": "9Jj8OaQRiPig"
      },
      "source": [
        "**Note :** Dalam kasus ini, hasil *Accuracy* bukanlah metrik yang baik untuk mengevaluasi model mana yang paling baik karena *Accuracy* mengukur keakuratan model secara keseluruhan, dan dikarenakan dataset yang digunakan merupakan kumpulan data tidak seimbang (proporsi data churn dan tidak churn yang berbeda), hal itu mengakibatkan peningkatan (increase) yang tidak mencerminkan hasil positif dari data. Jadi, keefektifan model yang digunakan akan dilihat dari metrik lain, yaitu nilai *Precision* dan *Recall*. \n",
        "\n",
        "***Precision*** merupakan persentase prediksi yang benar untuk label dari total yang diprediksi dengan label tersebut, yaitu seberapa baik model memprediksi label.\n",
        "\n",
        "***Recall*** adalah persentase prediksi yang benar untuk label dari total entri yang benar-benar memiliki label tersebut, yaitu, seberapa baik model memprediksi label jika itu adalah label yang benar."
      ]
    },
    {
      "cell_type": "markdown",
      "metadata": {
        "id": "2UnqSZov7cIA"
      },
      "source": [
        "# ***MODEL CONCLUSION***"
      ]
    },
    {
      "cell_type": "markdown",
      "metadata": {
        "id": "u5_N7AW48gwF"
      },
      "source": [
        "Berdasarkan hasil perbandingan diantara ketiga model tersebut, ***Gradient Boosting Classifier*** menunjukkan performansi yang paling baik diantara model lainnya. Hal ini ditunjukkan dengan nilai *Accuracy* 77% (terbesar), ditambah dengan perolehan *Precision* model untuk semua labelnya juga 77% dan *Recall* point untuk label Churn sebesar 95%. Sehingga dapat dikatakan model ini cukup baik digunakan untuk memprediksi Churn Customers. Gradient Boosting Classifier juga baik digunakan untuk dataset yang besar. \n",
        "\n",
        "Untuk masalah prediksi, perlu meluangkan waktu di langkah Data Pre-Processing. Saat menganalisis kumpulan data, mungkin untuk membuat beberapa asumsi yang dapat meningkatkan kinerja model. Bergantung pada ukuran kumpulan data, hal ini dapat memakan waktu lama, namun, ini adalah langkah yang sangat penting untuk kualitas model. Akan tetapi, alangkah baik jika kemampuan prediksi model ditingkatkan dengan menerapkan model lain yang memiliki performansi lebih baik. "
      ]
    }
  ]
}